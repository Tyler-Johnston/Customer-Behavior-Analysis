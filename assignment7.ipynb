{
 "cells": [
  {
   "cell_type": "code",
   "execution_count": null,
   "metadata": {},
   "outputs": [],
   "source": [
    "import pandas as pd\n",
    "import numpy as np\n",
    "import seaborn as sns\n",
    "import matplotlib.pyplot as plt"
   ]
  },
  {
   "cell_type": "markdown",
   "metadata": {},
   "source": [
    "### Online Shoppers Intention Dataset\n",
    "\n",
    "- Target Variable: Revenue.\n",
    "This indicated whether a session resulted in a purchase (True or False)\n",
    "- Categorical Variables: Month, VisitorType, Weekend\n",
    "- Quantitative Variables: Administrative, Administrative_Duration, Informational, ProductRelated, BounceRates, ExitRates, PageValues\n",
    "\n",
    "### Answering Questions in Project Description:\n",
    "\n",
    "1. Which variables are predictive of the target variable?\n",
    "    -  Month, VisitorType, Weekend, Administrative, Administrative_Duration, Informational, ProductRelated, BounceRates, ExitRates, PageValues are predictive of the target variable Revenue\n",
    "\n",
    "2. Can logistic regression or a linear SVM predict well?\n",
    "    - Both models can perform well on binary classification tasks. Logistic regression is straightforward and interpretable, while SVMs can handle non-linear boundaries if the data is transformed appropriately. \n",
    "\n",
    "3. What do plots of selected pairs of variables look like? Where is the decision boundary in those plots?\n",
    "    - TBD\n",
    "\n",
    "4. Is there a difference between the polynomial and RBF SVMs?\n",
    "    - TBD\n",
    "\n",
    "5. What effect does changing the class_weight in an SVM have on your data? How might this be important for this data?\n",
    "    - TBD\n",
    "\n",
    "6. Is there a difference in runtime performance?\n",
    "    - TBD\n",
    "\n",
    "7. Logistic regression and LinearSVC use one-vs-rest (OVR) for multi-class classification. SVC uses one-vs-one (OVO). Where n is the number of classes, OVR learns n models, whereas OVO learns n(n-1)/2 (n choose 2) models. What effect does this have on performance?\n",
    "    - TBD"
   ]
  },
  {
   "cell_type": "code",
   "execution_count": null,
   "metadata": {},
   "outputs": [],
   "source": [
    "data = pd.read_csv('online_shoppers_intention.csv')\n"
   ]
  }
 ],
 "metadata": {
  "language_info": {
   "name": "python"
  }
 },
 "nbformat": 4,
 "nbformat_minor": 2
}
