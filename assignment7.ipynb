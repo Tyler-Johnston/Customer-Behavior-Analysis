{
 "cells": [
  {
   "cell_type": "code",
   "execution_count": 8,
   "metadata": {},
   "outputs": [],
   "source": [
    "import pandas as pd\n",
    "import numpy as np\n",
    "import seaborn as sns\n",
    "import matplotlib.pyplot as plt\n",
    "from sklearn.linear_model import LogisticRegression\n",
    "from sklearn.metrics import precision_recall_fscore_support"
   ]
  },
  {
   "cell_type": "markdown",
   "metadata": {},
   "source": [
    "### Online Shoppers Intention Dataset\n",
    "\n",
    "- Target Variable: Revenue.\n",
    "This indicated whether a session resulted in a purchase (True or False)\n",
    "- Categorical Variables: Month, VisitorType, Weekend\n",
    "- Quantitative Variables: Administrative, Administrative_Duration, Informational, ProductRelated, BounceRates, ExitRates, PageValues\n",
    "\n",
    "### Answering Questions in Project Description:\n",
    "\n",
    "1. Which variables are predictive of the target variable?\n",
    "    -  Month, VisitorType, Weekend, Administrative, Administrative_Duration, Informational, ProductRelated, BounceRates, ExitRates, PageValues are predictive of the target variable Revenue\n",
    "\n",
    "2. Can logistic regression or a linear SVM predict well?\n",
    "    - Both models can perform well on binary classification tasks. Logistic regression is straightforward and interpretable, while SVMs can handle non-linear boundaries if the data is transformed appropriately. \n",
    "\n",
    "3. What do plots of selected pairs of variables look like? Where is the decision boundary in those plots?\n",
    "    - TBD\n",
    "\n",
    "4. Is there a difference between the polynomial and RBF SVMs?\n",
    "    - TBD\n",
    "\n",
    "5. What effect does changing the class_weight in an SVM have on your data? How might this be important for this data?\n",
    "    - TBD\n",
    "\n",
    "6. Is there a difference in runtime performance?\n",
    "    - TBD\n",
    "\n",
    "7. Logistic regression and LinearSVC use one-vs-rest (OVR) for multi-class classification. SVC uses one-vs-one (OVO). Where n is the number of classes, OVR learns n models, whereas OVO learns n(n-1)/2 (n choose 2) models. What effect does this have on performance?\n",
    "    - TBD"
   ]
  },
  {
   "cell_type": "code",
   "execution_count": 9,
   "metadata": {},
   "outputs": [],
   "source": [
    "df = pd.read_csv('online_shoppers_intention.csv')\n"
   ]
  },
  {
   "cell_type": "code",
   "execution_count": 10,
   "metadata": {},
   "outputs": [
    {
     "name": "stdout",
     "output_type": "stream",
     "text": [
      "Predicted range: [0.00,1.00]\n",
      "Precision: [0.63753351 0.93129479]\n",
      "Recall: [0.62316562 0.93513721]\n",
      "F-score: [0.63026769 0.93321205]\n"
     ]
    }
   ],
   "source": [
    "X = df[['PageValues', 'Administrative_Duration']]\n",
    "y = df['Revenue'].astype(int)\n",
    "\n",
    "lm = LogisticRegression(class_weight={0:0.2, 1:0.8})\n",
    "lm.fit(X, y)\n",
    "\n",
    "y_pred = lm.predict(X)\n",
    "\n",
    "# Display predicted range\n",
    "print('Predicted range: [{:.2f},{:.2f}]'.format(min(y_pred), max(y_pred)))\n",
    "\n",
    "# Calculate precision, recall, and F-score\n",
    "p, r, f, s = precision_recall_fscore_support(y, y_pred, labels=[1, 0])\n",
    "\n",
    "# Display evaluation metrics\n",
    "print('Precision:', p)\n",
    "print('Recall:', r)\n",
    "print('F-score:', f)\n"
   ]
  }
 ],
 "metadata": {
  "kernelspec": {
   "display_name": "Python 3",
   "language": "python",
   "name": "python3"
  },
  "language_info": {
   "codemirror_mode": {
    "name": "ipython",
    "version": 3
   },
   "file_extension": ".py",
   "mimetype": "text/x-python",
   "name": "python",
   "nbconvert_exporter": "python",
   "pygments_lexer": "ipython3",
   "version": "3.11.5"
  }
 },
 "nbformat": 4,
 "nbformat_minor": 2
}
